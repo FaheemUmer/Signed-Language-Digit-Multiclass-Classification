{
 "cells": [
  {
   "cell_type": "code",
   "execution_count": 28,
   "id": "af72dc99-22f8-470c-9f7a-c81d7a3daaad",
   "metadata": {},
   "outputs": [],
   "source": [
    "from PIL import Image\n",
    "import os\n",
    "import torch\n",
    "import torch.nn as nn\n",
    "import torch.nn.functional as F\n",
    "import torch.optim as optim\n",
    "from torch.utils.data import Dataset, DataLoader\n",
    "import torchvision.transforms as T\n"
   ]
  },
  {
   "cell_type": "code",
   "execution_count": 29,
   "id": "a1b619f2-c992-483f-8f26-2853b37a0fa3",
   "metadata": {},
   "outputs": [],
   "source": [
    "class SignDigitsDataset(Dataset):\n",
    "    def __init__(self, base_path, img_size, is_train=True, custom_transform=None):\n",
    "        self.base_path = base_path\n",
    "        self.img_size = img_size\n",
    "        self.is_train = is_train\n",
    "        self.transform = custom_transform if custom_transform else self.default_transform()\n",
    "        self.img_list = []\n",
    "        self.label_list = []\n",
    "        self.prepare_dataset()\n",
    "\n",
    "    def default_transform(self):\n",
    "        return T.Compose([\n",
    "            T.Resize(self.img_size),\n",
    "            T.ToTensor(),\n",
    "            T.Normalize(mean=(0.5, 0.5, 0.5), std=(0.5, 0.5, 0.5))\n",
    "        ])\n",
    "\n",
    "    def prepare_dataset(self):\n",
    "        for digit in range(10):\n",
    "            digit_path = os.path.join(self.base_path, str(digit))\n",
    "            if not os.path.isdir(digit_path):\n",
    "                continue\n",
    "            files = [f for f in os.listdir(digit_path) if f.endswith('.JPG')]\n",
    "            cutoff = int(0.7 * len(files))\n",
    "\n",
    "            chosen_files = files[:cutoff] if self.is_train else files[cutoff:]\n",
    "\n",
    "            for f_name in chosen_files:\n",
    "                full_path = os.path.join(digit_path, f_name)\n",
    "                self.img_list.append(full_path)\n",
    "                self.label_list.append(digit)\n",
    "\n",
    "    def __len__(self):\n",
    "        return len(self.img_list)\n",
    "\n",
    "    def __getitem__(self, idx):\n",
    "        image = Image.open(self.img_list[idx]).convert('RGB')\n",
    "        if self.transform:\n",
    "            image = self.transform(image)\n",
    "        return image, self.label_list[idx]\n"
   ]
  },
  {
   "cell_type": "code",
   "execution_count": 30,
   "id": "2948a7cf-0097-4058-a511-785476958148",
   "metadata": {},
   "outputs": [
    {
     "name": "stdout",
     "output_type": "stream",
     "text": [
      "(64, 64)\n",
      "(64, 64)\n"
     ]
    }
   ],
   "source": [
    "batch = 64\n",
    "img_dim = (64, 64)\n",
    "data_root = r'C:\\Users\\Administrator IZ\\Desktop\\Sign-Language-Digits-Dataset\\Dataset'\n",
    "\n",
    "train_data = SignDigitsDataset(base_path=data_root, img_size=img_dim, is_train=True)\n",
    "test_data = SignDigitsDataset(base_path=data_root, img_size=img_dim, is_train=False)\n",
    "\n",
    "train_loader = DataLoader(dataset=train_data, batch_size=batch, shuffle=True)\n",
    "test_loader = DataLoader(dataset=test_data, batch_size=batch, shuffle=False)\n",
    "\n",
    "print(img_dim)\n",
    "print(img_dim)\n"
   ]
  },
  {
   "cell_type": "code",
   "execution_count": 31,
   "id": "4724930d-5ffd-4c67-8b92-b2e1dc2771d0",
   "metadata": {},
   "outputs": [
    {
     "name": "stdout",
     "output_type": "stream",
     "text": [
      "Epoch [1]\n",
      "Epoch [2]\n",
      "Epoch [3]\n",
      "Epoch [4]\n",
      "Epoch [5]\n",
      "Epoch [6]\n"
     ]
    }
   ],
   "source": [
    "class DigitClassifier(nn.Module):\n",
    "    def __init__(self, input_dim, output_classes):\n",
    "        super(DigitClassifier, self).__init__()\n",
    "        self.layer1 = nn.Linear(input_dim, 256)\n",
    "        self.layer2 = nn.Linear(256, 64)\n",
    "        self.output = nn.Linear(64, output_classes)\n",
    "\n",
    "    def forward(self, x):\n",
    "        x = F.relu(self.layer1(x))\n",
    "        x = F.relu(self.layer2(x))\n",
    "        x = self.output(x)\n",
    "        return x\n",
    "\n",
    "device = torch.device(\"cuda\" if torch.cuda.is_available() else \"cpu\")\n",
    "\n",
    "input_dim = 64 * 64 * 3\n",
    "classes = 10\n",
    "lr = 0.001\n",
    "epochs = 6\n",
    "\n",
    "model = DigitClassifier(input_dim, classes).to(device)\n",
    "loss_fn = nn.CrossEntropyLoss()\n",
    "optimizer = optim.Adam(model.parameters(), lr=lr)\n",
    "\n",
    "for ep in range(epochs):\n",
    "    print(f\"Epoch [{ep+1}]\")\n",
    "    for batch_idx, (inputs, targets) in enumerate(train_loader):\n",
    "        inputs, targets = inputs.to(device), targets.to(device)\n",
    "        inputs = inputs.view(inputs.size(0), -1)\n",
    "\n",
    "        predictions = model(inputs)\n",
    "        loss = loss_fn(predictions, targets)\n",
    "\n",
    "        optimizer.zero_grad()\n",
    "        loss.backward()\n",
    "        optimizer.step()\n"
   ]
  },
  {
   "cell_type": "code",
   "execution_count": 32,
   "id": "dcd79e59-e309-4d07-926d-1a5f5b3f00e2",
   "metadata": {},
   "outputs": [
    {
     "name": "stdout",
     "output_type": "stream",
     "text": [
      "Evaluating on Test Set:\n",
      "Accuracy: 48/64 (75.00%)\n",
      "Evaluating on Train Set:\n",
      "Accuracy: 55/64 (85.94%)\n"
     ]
    }
   ],
   "source": [
    "def evaluate(loader, model):\n",
    "    model.eval()\n",
    "    correct = 0\n",
    "    total = 0\n",
    "\n",
    "    with torch.no_grad():\n",
    "        for inputs, labels in loader:\n",
    "            inputs, labels = inputs.to(device), labels.to(device)\n",
    "            inputs = inputs.view(inputs.size(0), -1)\n",
    "\n",
    "            outputs = model(inputs)\n",
    "            _, predicted = outputs.max(dim=1)\n",
    "            correct += (predicted == labels).sum()\n",
    "            total += labels.size(0)\n",
    "            break  # Check one batch only\n",
    "\n",
    "    accuracy = 100 * correct.item() / total\n",
    "    print(f\"Accuracy: {correct}/{total} ({accuracy:.2f}%)\")\n",
    "\n",
    "print(\"Evaluating on Test Set:\")\n",
    "evaluate(test_loader, model)\n",
    "\n",
    "print(\"Evaluating on Train Set:\")\n",
    "evaluate(train_loader, model)\n"
   ]
  },
  {
   "cell_type": "code",
   "execution_count": null,
   "id": "d114bb18-40db-4d17-88e9-ff5f7afd8407",
   "metadata": {},
   "outputs": [],
   "source": []
  }
 ],
 "metadata": {
  "kernelspec": {
   "display_name": "Python 3 (ipykernel)",
   "language": "python",
   "name": "python3"
  },
  "language_info": {
   "codemirror_mode": {
    "name": "ipython",
    "version": 3
   },
   "file_extension": ".py",
   "mimetype": "text/x-python",
   "name": "python",
   "nbconvert_exporter": "python",
   "pygments_lexer": "ipython3",
   "version": "3.12.4"
  }
 },
 "nbformat": 4,
 "nbformat_minor": 5
}
